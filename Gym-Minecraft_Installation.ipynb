{
 "cells": [
  {
   "cell_type": "markdown",
   "metadata": {},
   "source": [
    "# Install gym-minecraft on Ubuntu 16.04 (Python3.6)\n",
    "\n",
    "Work realised in collaboration with: \n",
    "\n",
    "- [Clément Romac](https://github.com/ClementRomac)\n",
    "- [Pierre Leroy](https://github.com/PierreLeroyBdx)\n",
    "\n",
    "#### Tutorial based on the work of [Tambet Matiisen](https://github.com/tambetm/gym-minecraft)"
   ]
  },
  {
   "cell_type": "markdown",
   "metadata": {},
   "source": [
    "### Install Malmo & Depedencies"
   ]
  },
  {
   "cell_type": "markdown",
   "metadata": {},
   "source": [
    "``` bash\n",
    "wget https://github.com/Microsoft/malmo/releases/download/0.34.0/Malmo-0.34.0-Linux-Ubuntu-16.04-64bit_withBoost_Python3.5.zip\n",
    "unzip Malmo-0.34.0-Linux-Ubuntu-16.04-64bit_withBoost_Python3.5.zip\n",
    "mv Malmo-0.34.0-Linux-Ubuntu-16.04-64bit_withBoost_Python3.5 MalmoPlatform\n",
    "cp -r MalmoPlatform ~\n",
    "sudo apt-get install libboost-all-dev libpython2.7 openjdk-8-jdk lua5.1 libxerces-c3.1 liblua5.1-0-dev ffmpeg python-tk python-imaging-tk\n",
    "sudo update-ca-certificates -f\n",
    "```"
   ]
  },
  {
   "cell_type": "markdown",
   "metadata": {},
   "source": [
    "### Add Envrionement variable"
   ]
  },
  {
   "cell_type": "markdown",
   "metadata": {},
   "source": [
    "``` bash\n",
    "sudo echo 'export MALMO_XSD_PATH=~/MalmoPlatform/Schemas' >> ~/.bashrc\n",
    "source ~./bashrc```"
   ]
  },
  {
   "cell_type": "markdown",
   "metadata": {},
   "source": [
    "### Install OpenAI gym"
   ]
  },
  {
   "cell_type": "markdown",
   "metadata": {},
   "source": [
    "``` bash\n",
    "pip install gym ```"
   ]
  },
  {
   "cell_type": "markdown",
   "metadata": {},
   "source": [
    "### Download and Install minecraft_py "
   ]
  },
  {
   "cell_type": "markdown",
   "metadata": {},
   "source": [
    "``` bash\n",
    "git clone https://github.com/tambetm/minecraft-py.git\n",
    "\n",
    "cd minecraft-py\n",
    "\n",
    "python setup.py install ```"
   ]
  },
  {
   "cell_type": "markdown",
   "metadata": {},
   "source": [
    "### Download and Install gym-minecraft"
   ]
  },
  {
   "cell_type": "markdown",
   "metadata": {},
   "source": [
    "``` bash\n",
    "git clone https://github.com/tambetm/gym-minecraft.git\n",
    "\n",
    "cd gym-minecraft\n",
    "\n",
    "python setup.py install ```"
   ]
  },
  {
   "cell_type": "markdown",
   "metadata": {},
   "source": [
    "### Download and install Pygame"
   ]
  },
  {
   "cell_type": "markdown",
   "metadata": {},
   "source": [
    "``` bash\n",
    "sudo apt-get install mercurial python3-dev python3-setuptools python3-numpy python3-opengl \\\n",
    "    libav-tools libsdl-image1.2-dev libsdl-mixer1.2-dev libsdl-ttf2.0-dev libsmpeg-dev \\\n",
    "    libsdl1.2-dev libportmidi-dev libswscale-dev libavformat-dev libavcodec-dev \\\n",
    "    libtiff5-dev libx11-6 libx11-dev fluid-soundfont-gm timgm6mb-soundfont \\\n",
    "    xfonts-base xfonts-100dpi xfonts-75dpi xfonts-cyrillic fontconfig fonts-freefont-ttf\n",
    "\n",
    "hg clone https://bitbucket.org/pygame/pygame\n",
    "\n",
    "cd pygame\n",
    "python3 setup.py build\n",
    "sudo python3 setup.py install ``` "
   ]
  },
  {
   "cell_type": "markdown",
   "metadata": {},
   "source": [
    "### Add ScoreBoard to Gym"
   ]
  },
  {
   "cell_type": "markdown",
   "metadata": {},
   "source": [
    "``` bash\n",
    "wget https://github.com/openai/gym/archive/v0.7.4.zip\n",
    "unzip v0.7.4.zip\n",
    "cp gym-0.7.4/gym/scoreboard ~/anaconda3/lib/python3.6/site-packages/gym/ \n",
    "```"
   ]
  }
 ],
 "metadata": {
  "kernelspec": {
   "display_name": "Python 3",
   "language": "python",
   "name": "python3"
  },
  "language_info": {
   "codemirror_mode": {
    "name": "ipython",
    "version": 3
   },
   "file_extension": ".py",
   "mimetype": "text/x-python",
   "name": "python",
   "nbconvert_exporter": "python",
   "pygments_lexer": "ipython3",
   "version": "3.6.3"
  }
 },
 "nbformat": 4,
 "nbformat_minor": 2
}
